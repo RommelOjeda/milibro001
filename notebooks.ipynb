{
 "cells": [
  {
   "cell_type": "markdown",
   "metadata": {},
   "source": [
    "# Página web estática\n",
    "\n",
    "Una página web estática es una página creada con código HTML y presenta la misma presentación y contenido, independientemente de la identidad del usuario u otros factores. Las páginas web estáticas son más fáciles de codificar y ensamblar que las páginas web dinámicas, que pueden presentar contenido personalizable según la identidad del usuario u otros factores.\n",
    "\n",
    "**Un sitio web estático no requiere programación web o diseño de base de datos**. Estático es la forma más básica de sitio web y es el más simple de crear y es perfecto para sitios de pequeña escala. Mantener una gran cantidad de páginas estáticas puede convertirse rápidamente en una molestia poco práctica y que requiere mucho tiempo.\n",
    "\n",
    "````\n",
    "Las páginas web estáticas también se conocen como sitios web estáticos\n",
    "````\n",
    "### Características de una página web estática:\n",
    "\n",
    "• Son Realizadas principalmente en XHTML o HTML.\n",
    "\n",
    "• Para la modificación de sus contenidos es imprescindible acceder al servidor donde está alojada la página.\n",
    "\n",
    "• El proceso de actualización es lento y manual.\n",
    "\n",
    "• No ofrece bases de datos, foros, etc.\n",
    " \n",
    "• El usuario no puede seleccionar, ordenar o modificar los contenidos o el diseño de la página.\n",
    "\n",
    "• Su diseño y desarrollo es más rápido y económico que el de una web dinámica.\n",
    "\n",
    "### Ventajas\n",
    "\n",
    "• **Seguridad**: Los sitios estáticos son más seguros que los sitios dinámicos porque los sitios estáticos son archivos preconstruidos que solo se comunican con el backend cuando hay cambios en el contenido en lugar de en cada solicitud y no envían información al servidor.\n",
    "\n",
    "• **Actuación**: Los sitios estáticos eliminan el tiempo necesario para obtener el contenido para el usuario caso por caso utilizando archivos estáticos preconstruidos. Los archivos preconstruidos significan que es fácil crear sitios estáticos de alto rendimiento. \n",
    "\n",
    "• **Requiere menos recursos de la máquina**: Debido a que los sitios estáticos se construyen una vez y solo se reconstruyen cuando hay cambios en el contenido, y sirven HTML y CSS, no requieren que los equipos compilen constantemente múltiples archivos y viajes de ida y vuelta a la base de datos para recuperar el contenido.\n",
    "\n",
    "### Desventajas\n",
    "\n",
    "• **Requiere conocimiento/experiencia en desarrollo**: La construcción con sitios estáticos requiere que los equipos encuentren desarrolladores que tengan experiencia con herramientas como Generadores de sitios estáticos o planifiquen el tiempo para que los equipos se ajusten a los enfoques en los cronogramas del proyecto. Debido a la popularidad de estos marcos y sistemas, existe una gran comunidad de desarrolladores con experiencia en estas tecnologías, pero sigue siendo una consideración importante al iniciar nuevos proyectos.\n",
    "\n",
    "• **Requiere esfuerzo adicional para agregar contenido dinámico**: El contenido dinámico requiere que los equipos agreguen un servicio adicional o cambien el contenido en el CMS sin encabezado elegido.\n",
    "\n",
    "• **Gestión menos eficiente**: Los sitios web estáticos pueden ser más rápidos de crear, pero su administración puede llevar más tiempo. Las ediciones en un sitio web estático deben realizarse página por página y, a medida que los sitios web se cargan con más contenido, o el contenido cambia rápidamente, esta tarea se vuelve mucho más desafiante y, en algunos casos, casi imposible.\n",
    "\n",
    "```{note}\n",
    "[Información Extraida de Aquí](https://graphcms.com/blog/what-is-a-static-website).\n",
    "\n",
    "```\n"
   ]
  }
 ],
 "metadata": {
  "kernelspec": {
   "display_name": "Python 3",
   "language": "python",
   "name": "python3"
  },
  "language_info": {
   "codemirror_mode": {
    "name": "ipython",
    "version": 3
   },
   "file_extension": ".py",
   "mimetype": "text/x-python",
   "name": "python",
   "nbconvert_exporter": "python",
   "pygments_lexer": "ipython3",
   "version": "3.8.0"
  },
  "widgets": {
   "application/vnd.jupyter.widget-state+json": {
    "state": {},
    "version_major": 2,
    "version_minor": 0
   }
  }
 },
 "nbformat": 4,
 "nbformat_minor": 4
}
